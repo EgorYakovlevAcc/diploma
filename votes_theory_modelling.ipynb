{
 "cells": [
  {
   "cell_type": "code",
   "execution_count": 1,
   "metadata": {},
   "outputs": [],
   "source": [
    "import numpy as np\n",
    "from matplotlib import pyplot as plt\n",
    "import math\n",
    "from decimal import Decimal"
   ]
  },
  {
   "cell_type": "markdown",
   "metadata": {},
   "source": [
    "Объявляем константы для расчётной модели"
   ]
  },
  {
   "cell_type": "code",
   "execution_count": 2,
   "metadata": {},
   "outputs": [],
   "source": [
    "#constants\n",
    "PEOPLE_AMOUNT = 300\n",
    "STEPS_NUMBER = 100\n",
    "MU = 0.3\n",
    "SIGMA = 10\n",
    "MIN_L = 0.4\n",
    "MAX_L = 0.6\n",
    "L_AMOUNT = 100\n",
    "MU_AMOUNT = 30\n",
    "MIN_MU = -6\n",
    "MAX_MU = 2.5\n",
    "SAME_VALUE_BALANCE = 5"
   ]
  },
  {
   "cell_type": "markdown",
   "metadata": {},
   "source": [
    "Создаём выборку случайных чисел с распределением Гаусса"
   ]
  },
  {
   "cell_type": "code",
   "execution_count": 3,
   "metadata": {
    "pycharm": {
     "name": "#%%\n"
    }
   },
   "outputs": [],
   "source": [
    "def generateGaussRandomArray(mu, sigma):\n",
    "    return np.random.normal(mu, sigma, PEOPLE_AMOUNT)"
   ]
  },
  {
   "cell_type": "markdown",
   "metadata": {},
   "source": [
    "Создаём выборку из одинаковых значений"
   ]
  },
  {
   "cell_type": "code",
   "execution_count": 4,
   "metadata": {
    "pycharm": {
     "name": "#%%\n"
    }
   },
   "outputs": [],
   "source": [
    "def generateSameRandomValue():\n",
    "    return np.array(np.full(PEOPLE_AMOUNT, SAME_VALUE_BALANCE), dtype=np.dtype(Decimal))"
   ]
  },
  {
   "cell_type": "markdown",
   "metadata": {},
   "source": [
    "Получаем начальные значения для капиталов людей"
   ]
  },
  {
   "cell_type": "code",
   "execution_count": 5,
   "metadata": {},
   "outputs": [],
   "source": [
    "balances = generateGaussRandomArray(MU, SIGMA)\n",
    "#balances = generateSameRandomValue()"
   ]
  },
  {
   "cell_type": "code",
   "execution_count": 6,
   "metadata": {},
   "outputs": [
    {
     "data": {
      "image/png": "[encoded data removed]",
      "text/plain": [
       "<Figure size 432x288 with 1 Axes>"
      ]
     },
     "metadata": {
      "needs_background": "light"
     },
     "output_type": "display_data"
    }
   ],
   "source": [
    "# example data\n",
    "mu = MU  # mean of distribution\n",
    "sigma = SIGMA  # standard deviation of distribution\n",
    "x = balances\n",
    "\n",
    "num_bins = 50\n",
    "\n",
    "fig, ax = plt.subplots()\n",
    "\n",
    "# the histogram of the data\n",
    "n, bins, patches = ax.hist(x, num_bins, density=1)\n",
    "\n",
    "# add a 'best fit' line\n",
    "y = ((1 / (np.sqrt(2 * np.pi) * sigma)) *\n",
    "     np.exp(-0.5 * (1 / sigma * (bins - mu))**2))\n",
    "ax.plot(bins, y, '--')\n",
    "ax.set_xlabel('balances')\n",
    "ax.set_ylabel('Probability density')\n",
    "ax.set_title(r'$\\mu=0.3$, $\\sigma=10$')\n",
    "\n",
    "# Tweak spacing to prevent clipping of ylabel\n",
    "fig.tight_layout()\n",
    "plt.show()"
   ]
  },
  {
   "cell_type": "markdown",
   "metadata": {},
   "source": [
    "определяем функцию $f(C_i) = ln(e^{C_i} + 1)$"
   ]
  },
  {
   "cell_type": "code",
   "execution_count": 7,
   "metadata": {
    "pycharm": {
     "name": "#%%\n"
    }
   },
   "outputs": [],
   "source": [
    "def balanceFunction(balance):\n",
    "    res = np.array([])\n",
    "    for b in balances:\n",
    "        bDecimal = Decimal(b)\n",
    "        res = np.append(res, (bDecimal.exp() + Decimal(1)).ln())\n",
    "    return res"
   ]
  },
  {
   "cell_type": "markdown",
   "metadata": {},
   "source": [
    "определяем функцию $f(C_i) = \\frac{{C_i}^3}{{C_i}^2 + e^{-x}}$"
   ]
  },
  {
   "cell_type": "code",
   "execution_count": 8,
   "metadata": {},
   "outputs": [],
   "source": [
    "def balanceFunction2(balance):\n",
    "    res = np.array([])\n",
    "    for b in balances:\n",
    "        bDecimal = Decimal(b)\n",
    "        res = np.append(res, bDecimal**3/(bDecimal**2 + (-bDecimal).exp()))\n",
    "    return res"
   ]
  },
  {
   "cell_type": "markdown",
   "metadata": {},
   "source": [
    "Определяем изменение капитала отедльного человека как функцию $g(C_i, c_i) = c_i \\cdot (\\frac{a}{|\\mu|} \\cdot f(C_i) + 1)$"
   ]
  },
  {
   "cell_type": "code",
   "execution_count": 9,
   "metadata": {},
   "outputs": [],
   "source": [
    "def balanceIncrementFunctionForPerson(balance, personalSuggestion, mu, a):\n",
    "    b = balanceFunction(balance)\n",
    "    res = np.array([])\n",
    "    for i in range(0, PEOPLE_AMOUNT):\n",
    "        res = np.append(res, Decimal(personalSuggestion[i]) * (Decimal(a) / Decimal(abs(mu)) * Decimal(b[i]) + Decimal(1)))\n",
    "    return res\n",
    "\n",
    "def balanceIncrementFunction(balances, suggestions, mu, a):\n",
    "    return balanceIncrementFunctionForPerson(balances, suggestions, mu, a)"
   ]
  },
  {
   "cell_type": "markdown",
   "metadata": {},
   "source": [
    "Определяем набор предложений"
   ]
  },
  {
   "cell_type": "code",
   "execution_count": 10,
   "metadata": {
    "pycharm": {
     "name": "#%%\n"
    }
   },
   "outputs": [],
   "source": [
    "suggestionsList = np.array([])\n",
    "for i in range(0, STEPS_NUMBER):\n",
    "    sug = generateGaussRandomArray(MU, SIGMA)\n",
    "    suggestionsList = np.append(suggestionsList, sug)\n",
    "suggestionsList = suggestionsList.reshape(-1, PEOPLE_AMOUNT)"
   ]
  },
  {
   "cell_type": "markdown",
   "metadata": {},
   "source": [
    "Функция, проверяющая, принимает общество отдельное предложение или нет"
   ]
  },
  {
   "cell_type": "code",
   "execution_count": 11,
   "metadata": {
    "pycharm": {
     "name": "#%%\n"
    }
   },
   "outputs": [],
   "source": [
    "def isSolutionApplyed(increments, l):\n",
    "    sum = 0\n",
    "    for i in range(0, increments.size):\n",
    "        if increments[i] > 0:\n",
    "            sum = sum + 1\n",
    "    return sum >= l * PEOPLE_AMOUNT"
   ]
  },
  {
   "cell_type": "code",
   "execution_count": 12,
   "metadata": {},
   "outputs": [],
   "source": [
    "# @technical\n",
    "# Returns sum of arrays with dtype = decimal \n",
    "def sumDecimalArray(newBalances, increments):\n",
    "    resList = np.array([])\n",
    "    for i in range(0, PEOPLE_AMOUNT):\n",
    "        incr = increments[i]\n",
    "        b = newBalances[i]\n",
    "        res = Decimal(incr) + Decimal(b)\n",
    "        resList = np.append(resList, res)\n",
    "    return resList"
   ]
  },
  {
   "cell_type": "markdown",
   "metadata": {},
   "source": [
    "Функция, возвращающая капитал общества и процент принятых предложений по входным параметрам:\n",
    "\t\t\t* balances - текущий капитал каждого человека (набор значений капиталов всех людей в обществе)\n",
    "\t\t\t* l - порог принятия решения\n",
    "\t\t\t* a - параметр функции изменения капитала человека"
   ]
  },
  {
   "cell_type": "code",
   "execution_count": 13,
   "metadata": {},
   "outputs": [],
   "source": [
    "def updateBalances(balances, l, a, mu):\n",
    "    newBalances = balances\n",
    "    sum = 0\n",
    "    for suggestions in suggestionsList:\n",
    "        increments = balanceIncrementFunction(newBalances, suggestions, mu, a)\n",
    "        if isSolutionApplyed(increments, l):\n",
    "            sum = sum + 1\n",
    "            newBalances = sumDecimalArray(newBalances, increments)\n",
    "    return newBalances, sum/STEPS_NUMBER"
   ]
  },
  {
   "cell_type": "markdown",
   "metadata": {},
   "source": [
    "Набор значений порога принятия решения"
   ]
  },
  {
   "cell_type": "code",
   "execution_count": 14,
   "metadata": {},
   "outputs": [],
   "source": [
    "arrayL = np.linspace(MIN_L, MAX_L, L_AMOUNT)"
   ]
  },
  {
   "cell_type": "code",
   "execution_count": 15,
   "metadata": {},
   "outputs": [],
   "source": [
    "# @technical\n",
    "# Returns average mean of array items with dtype = decimal \n",
    "def decimalAverage(array):\n",
    "    result = 0\n",
    "    for item in array:\n",
    "        result = Decimal(result) + Decimal(item)\n",
    "    return result/PEOPLE_AMOUNT"
   ]
  },
  {
   "cell_type": "markdown",
   "metadata": {},
   "source": [
    "Функция, которая возвращает среднее изменение капитала человека в обществе после принятия набора предложений. Функция изменения капитала человека с параметром a"
   ]
  },
  {
   "cell_type": "code",
   "execution_count": 16,
   "metadata": {},
   "outputs": [],
   "source": [
    "def calcBalancesForLimitsRangeAndParametrA(a):\n",
    "    avrBalances = np.array([])\n",
    "    positive = np.array([])\n",
    "    for l in arrayL:\n",
    "        tempBalances, positivePercentage = updateBalances(balances, l, a, MU)\n",
    "        avrBalances = np.append(avrBalances, decimalAverage(tempBalances) - decimalAverage(balances))\n",
    "        positive = np.append(positive, positivePercentage)\n",
    "    return avrBalances, positive"
   ]
  },
  {
   "cell_type": "markdown",
   "metadata": {},
   "source": [
    "Считаем средние значения изменения капитала человека с функцией изменения капитала с параметром a. Рассматриваем три значения параметра a: 0.1, 0.5, 0.9"
   ]
  },
  {
   "cell_type": "code",
   "execution_count": 17,
   "metadata": {},
   "outputs": [],
   "source": [
    "avrBalancesForL = np.array([])\n",
    "positiveList = np.array([])\n",
    "for a in [0.1, 0.5, 0.9]:\n",
    "    avrBalances, positive = calcBalancesForLimitsRangeAndParametrA(a)\n",
    "    avrBalancesForL = np.append(avrBalancesForL, avrBalances)\n",
    "    positiveList = np.append(positiveList, positive)\n",
    "\n",
    "avrBalancesForL = avrBalancesForL.reshape(-1, L_AMOUNT)\n",
    "positiveList = positiveList.reshape(-1, L_AMOUNT)"
   ]
  },
  {
   "cell_type": "markdown",
   "metadata": {},
   "source": [
    "# Графики приращения капитала человека для разных пороговых значений принятия решения"
   ]
  },
  {
   "cell_type": "code",
   "execution_count": 18,
   "metadata": {},
   "outputs": [],
   "source": [
    "def annot_max(x,y, ax):\n",
    "    xmax = x[np.argmax(y)]\n",
    "    ymax = y.max()\n",
    "    text= \"x={:.3f}, y={:.3f}\".format(xmax, ymax)\n",
    "    if not ax:\n",
    "        ax=plt.gca()\n",
    "    bbox_props = dict(boxstyle=\"square,pad=0.3\", fc=\"w\", ec=\"k\", lw=0.72)\n",
    "    arrowprops=dict(arrowstyle=\"->\",connectionstyle=\"angle,angleA=0,angleB=60\")\n",
    "    kw = dict(xycoords='data',textcoords=\"axes fraction\",\n",
    "              arrowprops=arrowprops, bbox=bbox_props, ha=\"right\", va=\"top\")\n",
    "    ax.annotate(text, xy=(xmax, ymax), xytext=(0.94,0.96), **kw)"
   ]
  },
  {
   "cell_type": "code",
   "execution_count": 19,
   "metadata": {
    "pycharm": {
     "name": "#%%\n"
    }
   },
   "outputs": [
    {
     "data": {
      "image/png": "[encoded data removed]",
      "text/plain": [
       "<Figure size 720x720 with 2 Axes>"
      ]
     },
     "metadata": {
      "needs_background": "light"
     },
     "output_type": "display_data"
    }
   ],
   "source": [
    "fig, axs = plt.subplots(2, figsize=(10,10))\n",
    "fig.suptitle('plots for a = 0.1')\n",
    "axs[0].plot(arrayL, avrBalancesForL[0])\n",
    "axs[0].set_xlabel('l')\n",
    "axs[0].set_ylabel('increment of avr balance')\n",
    "axs[0].grid()\n",
    "annot_max(arrayL, avrBalancesForL[0], axs[0])\n",
    "axs[1].plot(arrayL, positiveList[0])\n",
    "axs[1].set_xlabel('l')\n",
    "axs[1].set_ylabel('percentage of positive decisions')\n",
    "axs[1].grid()"
   ]
  },
  {
   "cell_type": "code",
   "execution_count": 20,
   "metadata": {},
   "outputs": [
    {
     "data": {
      "image/png": "[encoded data removed]",
      "text/plain": [
       "<Figure size 720x720 with 2 Axes>"
      ]
     },
     "metadata": {
      "needs_background": "light"
     },
     "output_type": "display_data"
    }
   ],
   "source": [
    "fig, axs = plt.subplots(2, figsize=(10,10))\n",
    "fig.suptitle('plots for a = 0.5')\n",
    "axs[0].plot(arrayL,avrBalancesForL[1])\n",
    "axs[0].set_xlabel('l')\n",
    "axs[0].set_ylabel('increment of avr balance')\n",
    "axs[0].grid()\n",
    "annot_max(arrayL, avrBalancesForL[1], axs[0])\n",
    "axs[1].plot(arrayL, positiveList[1])\n",
    "axs[1].set_xlabel('l')\n",
    "axs[1].set_ylabel('percentage of positive decisions')\n",
    "axs[1].grid()"
   ]
  },
  {
   "cell_type": "code",
   "execution_count": 21,
   "metadata": {},
   "outputs": [
    {
     "data": {
      "image/png": "[encoded data removed]",
      "text/plain": [
       "<Figure size 720x720 with 2 Axes>"
      ]
     },
     "metadata": {
      "needs_background": "light"
     },
     "output_type": "display_data"
    }
   ],
   "source": [
    "fig, axs = plt.subplots(2, figsize=(10,10))\n",
    "fig.suptitle('plots for a = 0.9')\n",
    "axs[0].plot(arrayL,avrBalancesForL[2])\n",
    "axs[0].set_xlabel('l')\n",
    "axs[0].set_ylabel('increment of avr balance')\n",
    "axs[0].grid()\n",
    "annot_max(arrayL, avrBalancesForL[2], axs[0])\n",
    "axs[1].plot(arrayL, positiveList[2])\n",
    "axs[1].set_xlabel('l')\n",
    "axs[1].set_ylabel('percentage of positive decisions')\n",
    "axs[1].grid()"
   ]
  },
  {
   "cell_type": "markdown",
   "metadata": {},
   "source": [
    "# Зависимость оптимального порога голосования от $\\mu$"
   ]
  },
  {
   "cell_type": "code",
   "execution_count": null,
   "metadata": {},
   "outputs": [],
   "source": [
    "def getXMax(x,y):\n",
    "    xmax = x[np.argmax(y)]\n",
    "    return xmax"
   ]
  },
  {
   "cell_type": "code",
   "execution_count": null,
   "metadata": {},
   "outputs": [],
   "source": [
    "def generateSuggestionsList(mu, sigma):\n",
    "    suggestionsList = np.array([])\n",
    "    for i in range(0, STEPS_NUMBER):\n",
    "        sug = generateGaussRandomArray(mu, sigma)\n",
    "        suggestionsList = np.append(suggestionsList, sug)\n",
    "    return suggestionsList.reshape(-1, PEOPLE_AMOUNT)"
   ]
  },
  {
   "cell_type": "markdown",
   "metadata": {},
   "source": [
    "Функция, возвращающая капитал общества и процент принятых предложений по входным параметрам:\n",
    "\t\t\t* balances - текущий капитал каждого человека (набор значений капиталов всех людей в обществе)\n",
    "\t\t\t* l - порог принятия решения\n",
    "\t\t\t* a - параметр функции изменения капитала человека"
   ]
  },
  {
   "cell_type": "code",
   "execution_count": null,
   "metadata": {},
   "outputs": [],
   "source": [
    "def updateBalancesPro(balances, l, a, mu, suggestionsList):\n",
    "    newBalances = balances\n",
    "    for suggestions in suggestionsList:\n",
    "        increments = balanceIncrementFunction(newBalances, suggestions, mu, a)\n",
    "        if isSolutionApplyed(increments, l):\n",
    "            newBalances = sumDecimalArray(newBalances, increments)\n",
    "    return newBalances"
   ]
  },
  {
   "cell_type": "code",
   "execution_count": null,
   "metadata": {},
   "outputs": [],
   "source": [
    "arrayMu = np.linspace(MIN_MU, MAX_MU, MU_AMOUNT)"
   ]
  },
  {
   "cell_type": "code",
   "execution_count": null,
   "metadata": {},
   "outputs": [],
   "source": [
    "def calcBalancesForLimitRangeAndParametrAPro(a, mu, suggestionsList):\n",
    "    avrBalances = np.array([])\n",
    "    positive = np.array([])\n",
    "    for l in arrayL:\n",
    "        tempBalances = updateBalancesPro(balances, l, a, mu, suggestionsList)\n",
    "        avrBalances = np.append(avrBalances, decimalAverage(tempBalances) - decimalAverage(balances))\n",
    "    return getXMax(arrayL, avrBalances)"
   ]
  },
  {
   "cell_type": "code",
   "execution_count": null,
   "metadata": {},
   "outputs": [],
   "source": [
    "xMaxArray = np.array([])\n",
    "for m in arrayMu:\n",
    "    suggestionsList = generateSuggestionsList(m, SIGMA)\n",
    "    xMaxArray = np.append(xMaxArray, calcBalancesForLimitRangeAndParametrAPro(0.5, m, suggestionsList))"
   ]
  },
  {
   "cell_type": "code",
   "execution_count": null,
   "metadata": {},
   "outputs": [],
   "source": [
    "fig, axs = plt.subplots(1, figsize=(10,10))\n",
    "fig.suptitle('plot for a = 0.5')\n",
    "axs.plot(arrayMu, xMaxArray)\n",
    "axs.set_xlabel('$\\mu$')\n",
    "axs.set_ylabel('l')\n",
    "axs.grid()\n",
    "annot_max(arrayMu, xMaxArray, axs)"
   ]
  },
  {
   "cell_type": "markdown",
   "metadata": {},
   "source": [
    "# Рассмотрим общество с одинаковыми начальными капиталами у эгоистов"
   ]
  },
  {
   "cell_type": "code",
   "execution_count": null,
   "metadata": {},
   "outputs": [],
   "source": [
    "SAME_VALUE_BALANCE3 = 100"
   ]
  },
  {
   "cell_type": "code",
   "execution_count": null,
   "metadata": {
    "pycharm": {
     "name": "#%%\n"
    }
   },
   "outputs": [],
   "source": [
    "def generateSameRandomValue3():\n",
    "    return np.array(np.full(PEOPLE_AMOUNT, SAME_VALUE_BALANCE3), dtype=np.dtype(Decimal))"
   ]
  },
  {
   "cell_type": "markdown",
   "metadata": {},
   "source": [
    "Получаем начальные значения для капиталов людей"
   ]
  },
  {
   "cell_type": "code",
   "execution_count": null,
   "metadata": {},
   "outputs": [],
   "source": [
    "balances = generateSameRandomValue3()\n",
    "print(balances)"
   ]
  },
  {
   "cell_type": "code",
   "execution_count": null,
   "metadata": {},
   "outputs": [],
   "source": [
    "# example data\n",
    "mu = MU  # mean of distribution\n",
    "sigma = SIGMA  # standard deviation of distribution\n",
    "x = balances\n",
    "num_bins = 50\n",
    "\n",
    "fig, ax = plt.subplots()\n",
    "ax.set_xlabel('balances')\n",
    "ax.set_ylabel('Probability density')\n",
    "ax.set_title(r'the same value of balance of egoists')\n",
    "# the histogram of the data\n",
    "n, bins, patches = ax.hist(x, num_bins, density=1)\n",
    "\n",
    "plt.show()"
   ]
  },
  {
   "cell_type": "markdown",
   "metadata": {},
   "source": [
    "определяем функцию $f(C_i) = ln(e^{C_i} + 1)$"
   ]
  },
  {
   "cell_type": "code",
   "execution_count": null,
   "metadata": {
    "pycharm": {
     "name": "#%%\n"
    }
   },
   "outputs": [],
   "source": [
    "def balanceFunction3(balance):\n",
    "    res = np.array([])\n",
    "    for b in balances:\n",
    "        bDecimal = Decimal(b)\n",
    "        res = np.append(res, (bDecimal.exp() + Decimal(1)).ln())\n",
    "    return res"
   ]
  },
  {
   "cell_type": "markdown",
   "metadata": {},
   "source": [
    "Определяем изменение капитала отедльного человека как функцию $g(C_i, c_i) = c_i \\cdot (\\frac{a}{|\\mu|} \\cdot f(C_i) + 1)$"
   ]
  },
  {
   "cell_type": "code",
   "execution_count": null,
   "metadata": {},
   "outputs": [],
   "source": [
    "def balanceIncrementFunctionForPerson3(balance, personalSuggestion, mu, a):\n",
    "    b = balanceFunction2(balance)\n",
    "    res = np.array([])\n",
    "    for i in range(0, PEOPLE_AMOUNT):\n",
    "        res = np.append(res, Decimal(personalSuggestion[i]) * (Decimal(a) / Decimal(abs(mu)) * Decimal(b[i]) + Decimal(1)))\n",
    "    return res\n",
    "\n",
    "def balanceIncrementFunction3(balances, suggestions, mu, a):\n",
    "    return balanceIncrementFunctionForPerson3(balances, suggestions, mu, a)"
   ]
  },
  {
   "cell_type": "markdown",
   "metadata": {},
   "source": [
    "Определяем набор предложений"
   ]
  },
  {
   "cell_type": "code",
   "execution_count": null,
   "metadata": {
    "pycharm": {
     "name": "#%%\n"
    }
   },
   "outputs": [],
   "source": [
    "suggestionsList = np.array([])\n",
    "for i in range(0, STEPS_NUMBER):\n",
    "    sug = generateGaussRandomArray(MU, SIGMA)\n",
    "    suggestionsList = np.append(suggestionsList, sug)\n",
    "suggestionsList = suggestionsList.reshape(-1, PEOPLE_AMOUNT)"
   ]
  },
  {
   "cell_type": "code",
   "execution_count": null,
   "metadata": {},
   "outputs": [],
   "source": [
    "# example data\n",
    "mu = MU  # mean of distribution\n",
    "sigma = SIGMA  # standard deviation of distribution\n",
    "x = suggestionsList[0]\n",
    "num_bins = 50\n",
    "\n",
    "fig, ax = plt.subplots()\n",
    "ax.set_xlabel('balances')\n",
    "ax.set_ylabel('Probability density')\n",
    "ax.set_title(r'$\\mu=0.3$, $\\sigma=10$')\n",
    "# the histogram of the data\n",
    "n, bins, patches = ax.hist(x, num_bins, density=1)\n",
    "\n",
    "plt.show()"
   ]
  },
  {
   "cell_type": "markdown",
   "metadata": {},
   "source": [
    "Функция, проверяющая, принимает общество отдельное предложение или нет"
   ]
  },
  {
   "cell_type": "code",
   "execution_count": null,
   "metadata": {
    "pycharm": {
     "name": "#%%\n"
    }
   },
   "outputs": [],
   "source": [
    "def isSolutionApplyed3(increments, l):\n",
    "    sum = 0\n",
    "    for i in range(0, increments.size):\n",
    "        if increments[i] > 0:\n",
    "            sum = sum + 1\n",
    "    return sum >= l * PEOPLE_AMOUNT"
   ]
  },
  {
   "cell_type": "code",
   "execution_count": null,
   "metadata": {},
   "outputs": [],
   "source": [
    "# @technical\n",
    "# Returns sum of arrays with dtype = decimal \n",
    "def sumDecimalArray3(newBalances, increments):\n",
    "    resList = np.array([])\n",
    "    for i in range(0, PEOPLE_AMOUNT):\n",
    "        incr = increments[i]\n",
    "        b = newBalances[i]\n",
    "        res = Decimal(incr) + Decimal(b)\n",
    "        resList = np.append(resList, res)\n",
    "    return resList"
   ]
  },
  {
   "cell_type": "markdown",
   "metadata": {},
   "source": [
    "Функция, возвращающая капитал общества и процент принятых предложений по входным параметрам:\n",
    "\t\t\t* balances - текущий капитал каждого человека (набор значений капиталов всех людей в обществе)\n",
    "\t\t\t* l - порог принятия решения\n",
    "\t\t\t* a - параметр функции изменения капитала человека"
   ]
  },
  {
   "cell_type": "code",
   "execution_count": null,
   "metadata": {},
   "outputs": [],
   "source": [
    "def updateBalances3(balances, a, mu, l, suggestionsList):\n",
    "    newBalances = balances\n",
    "    for suggestions in suggestionsList:\n",
    "        increments = balanceIncrementFunction3(newBalances, suggestions, mu, a)\n",
    "        if isSolutionApplyed3(increments, l):\n",
    "            newBalances = sumDecimalArray3(newBalances, increments)\n",
    "    return newBalances"
   ]
  },
  {
   "cell_type": "code",
   "execution_count": null,
   "metadata": {},
   "outputs": [],
   "source": [
    "newBalances = updateBalances3(balances, 0.5, MU, 0.5, suggestionsList)"
   ]
  },
  {
   "cell_type": "code",
   "execution_count": null,
   "metadata": {},
   "outputs": [],
   "source": [
    "# example data\n",
    "mu = MU  # mean of distribution\n",
    "sigma = SIGMA  # standard deviation of distribution\n",
    "x = np.array(newBalances, dtype=float)\n",
    "\n",
    "num_bins = 50\n",
    "\n",
    "fig, ax = plt.subplots()\n",
    "\n",
    "# the histogram of the data\n",
    "n, bins, patches = ax.hist(x, num_bins, density=1)\n",
    "ax.set_xlabel('balances')\n",
    "ax.set_ylabel('probability density')\n",
    "ax.set_title(r'initial balance $= 5$; $l = 0.5$; $a = 0.5$')\n",
    "\n",
    "# Tweak spacing to prevent clipping of ylabel\n",
    "fig.tight_layout()\n",
    "plt.show()"
   ]
  },
  {
   "cell_type": "code",
   "execution_count": null,
   "metadata": {},
   "outputs": [],
   "source": []
  }
 ],
 "metadata": {
  "kernelspec": {
   "display_name": "Python 3",
   "language": "python",
   "name": "python3"
  },
  "language_info": {
   "codemirror_mode": {
    "name": "ipython",
    "version": 3
   },
   "file_extension": ".py",
   "mimetype": "text/x-python",
   "name": "python",
   "nbconvert_exporter": "python",
   "pygments_lexer": "ipython3",
   "version": "3.7.4"
  },
  "pycharm": {
   "stem_cell": {
    "cell_type": "raw",
    "metadata": {
     "collapsed": false
    },
    "source": []
   }
  }
 },
 "nbformat": 4,
 "nbformat_minor": 2
}
